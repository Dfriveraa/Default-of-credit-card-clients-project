{
 "cells": [
  {
   "cell_type": "code",
   "execution_count": 8,
   "metadata": {},
   "outputs": [],
   "source": [
    "import pandas as pd\n",
    "import numpy as np\n",
    "from sklearn.preprocessing import StandardScaler"
   ]
  },
  {
   "cell_type": "code",
   "execution_count": 9,
   "metadata": {},
   "outputs": [],
   "source": [
    "df=pd.read_csv('../../Database/DB_v2_Balanced.csv',index_col=False)\n",
    "df=df.drop(['Unnamed: 0'],axis=1)\n",
    "scaler=StandardScaler()\n"
   ]
  },
  {
   "cell_type": "code",
   "execution_count": 10,
   "metadata": {},
   "outputs": [],
   "source": [
    "y=df['DEF_PAY']\n",
    "X=scaler.fit_transform(df.drop(['DEF_PAY'],axis=1))"
   ]
  },
  {
   "cell_type": "code",
   "execution_count": 11,
   "metadata": {},
   "outputs": [],
   "source": [
    "from sklearn.model_selection import GridSearchCV\n",
    "from sklearn.model_selection import train_test_split\n",
    "from sklearn.metrics import accuracy_score, make_scorer\n",
    "from sklearn.neural_network import MLPClassifier\n",
    "from sklearn.model_selection import StratifiedKFold\n",
    "from sklearn.utils import class_weight\n",
    "import joblib"
   ]
  },
  {
   "cell_type": "code",
   "execution_count": 14,
   "metadata": {},
   "outputs": [],
   "source": [
    "def gridSearch(model,params,X,Y,VALID_SIZE,FOLDS=10):\n",
    "    skf = StratifiedKFold(n_splits=FOLDS)\n",
    "    scoring = {'AUC': 'roc_auc', 'Accuracy':'accuracy'}    \n",
    "    X_train, X_test, Y_train, Y_test = train_test_split(X,Y, test_size=VALID_SIZE, shuffle=True)\n",
    "    class_weightsTrain = class_weight.compute_class_weight('balanced',np.unique(Y_train),Y_train)\n",
    "    gs = GridSearchCV(model, cv=skf, param_grid=params, return_train_score=True, n_jobs=-1,refit='AUC')\n",
    "    gs.fit(X_train, Y_train)\n",
    "    print(gs.best_estimator_)\n",
    "    print(np.abs(gs.best_score_))\n",
    "    return gs,X_test,Y_test"
   ]
  },
  {
   "cell_type": "raw",
   "metadata": {},
   "source": [
    "Instancia del modelo, diccionario de hiperparámetros y métricas de validación"
   ]
  },
  {
   "cell_type": "code",
   "execution_count": 17,
   "metadata": {},
   "outputs": [
    {
     "name": "stdout",
     "output_type": "stream",
     "text": [
      "MLPClassifier(activation='tanh', alpha=0.01, early_stopping=True,\n",
      "              hidden_layer_sizes=200)\n",
      "0.7066026081353802\n"
     ]
    },
    {
     "data": {
      "text/plain": [
       "['gs_object_balanced.pkl']"
      ]
     },
     "execution_count": 17,
     "metadata": {},
     "output_type": "execute_result"
    }
   ],
   "source": [
    "param_grid = {\n",
    "    'solver': ['adam'],\n",
    "    'max_iter': [100,300,200,350],\n",
    "    'alpha': 10.0** -np.arange(1, 4),\n",
    "    'hidden_layer_sizes':(60,70,100,200,300),\n",
    "    'activation': [\"logistic\",\"tanh\"]\n",
    "}\n",
    "mlp = MLPClassifier(early_stopping=True)\n",
    "gs,_,_=gridSearch(mlp,param_grid,X,y,0.2)\n",
    "joblib.dump(gs, 'gs_object_balanced.pkl') #se guarda el gs para su posterior uso"
   ]
  },
  {
   "cell_type": "code",
   "execution_count": 18,
   "metadata": {},
   "outputs": [],
   "source": [
    "from sklearn.metrics import balanced_accuracy_score\n",
    "from sklearn.metrics import accuracy_score\n",
    "from sklearn.metrics import roc_auc_score\n",
    "import scikitplot as skplt#Esta librería toca instalarla \"conda install -c conda-forge scikit-plot\"\n",
    "from sklearn.metrics import classification_report\n",
    "\n",
    "def experimentar(X,Y):\n",
    "\n",
    "    #Validamos el modelo\n",
    "    Folds = 10\n",
    "    skf = StratifiedKFold(n_splits=Folds)\n",
    "    resultados = pd.DataFrame()\n",
    "    idx = 0\n",
    "    Acc = []\n",
    "    Auc= []\n",
    "\n",
    "    for j, (train, test) in enumerate(skf.split(X, Y)):\n",
    "        Xtrain= X[train,:]\n",
    "        Ytrain = Y[train]\n",
    "        Xtest = X[test, :]\n",
    "        Ytest = Y[test]\n",
    "        #Normalizamos los datos\n",
    "        scaler = StandardScaler().fit(X= Xtrain)       \n",
    "        Xtrain = scaler.transform(Xtrain)\n",
    "        Xtest = scaler.transform(Xtest)\n",
    "        model = MLPClassifier(activation='tanh', alpha=0.1,\n",
    "              hidden_layer_sizes=200, max_iter=300)\n",
    "\n",
    "        model.fit(X=Xtrain, y=Ytrain)\n",
    "        Yest = model.predict_proba(Xtest)\n",
    "        \n",
    "        Acc.append(accuracy_score(Ytest,np.argmax(Yest, 1)))\n",
    "        aux=roc_auc_score(Ytest,Yest[:,1])\n",
    "        Auc.append(aux)\n",
    "    skplt.metrics.plot_confusion_matrix(Ytest,np.argmax(Yest, 1)) #matriz de confusión\n",
    "    skplt.metrics.plot_roc(Ytest,Yest)\n",
    "    print(classification_report(Ytest,np.argmax(Yest, 1)))\n",
    "    \n",
    "    resultados.loc[idx,'AUC medio'] = np.mean(Auc)\n",
    "    resultados.loc[idx,'AUC intervalo de confianza'] = np.std(Auc)\n",
    "    resultados.loc[idx,'Accuracy medio'] = np.mean(Acc)\n",
    "    resultados.loc[idx,'Accuracy intervalo de confianza'] = np.std(Acc)\n",
    "    return (resultados)"
   ]
  },
  {
   "cell_type": "code",
   "execution_count": 19,
   "metadata": {},
   "outputs": [
    {
     "name": "stderr",
     "output_type": "stream",
     "text": [
      "/home/sht/anaconda3/lib/python3.8/site-packages/sklearn/neural_network/_multilayer_perceptron.py:582: ConvergenceWarning: Stochastic Optimizer: Maximum iterations (300) reached and the optimization hasn't converged yet.\n",
      "  warnings.warn(\n",
      "/home/sht/anaconda3/lib/python3.8/site-packages/sklearn/neural_network/_multilayer_perceptron.py:582: ConvergenceWarning: Stochastic Optimizer: Maximum iterations (300) reached and the optimization hasn't converged yet.\n",
      "  warnings.warn(\n"
     ]
    },
    {
     "name": "stdout",
     "output_type": "stream",
     "text": [
      "              precision    recall  f1-score   support\n",
      "\n",
      "           0       0.70      0.79      0.74       663\n",
      "           1       0.76      0.66      0.71       664\n",
      "\n",
      "    accuracy                           0.72      1327\n",
      "   macro avg       0.73      0.72      0.72      1327\n",
      "weighted avg       0.73      0.72      0.72      1327\n",
      "\n"
     ]
    },
    {
     "data": {
      "text/html": [
       "<div>\n",
       "<style scoped>\n",
       "    .dataframe tbody tr th:only-of-type {\n",
       "        vertical-align: middle;\n",
       "    }\n",
       "\n",
       "    .dataframe tbody tr th {\n",
       "        vertical-align: top;\n",
       "    }\n",
       "\n",
       "    .dataframe thead th {\n",
       "        text-align: right;\n",
       "    }\n",
       "</style>\n",
       "<table border=\"1\" class=\"dataframe\">\n",
       "  <thead>\n",
       "    <tr style=\"text-align: right;\">\n",
       "      <th></th>\n",
       "      <th>AUC medio</th>\n",
       "      <th>AUC intervalo de confianza</th>\n",
       "      <th>Accuracy medio</th>\n",
       "      <th>Accuracy intervalo de confianza</th>\n",
       "    </tr>\n",
       "  </thead>\n",
       "  <tbody>\n",
       "    <tr>\n",
       "      <th>0</th>\n",
       "      <td>0.764084</td>\n",
       "      <td>0.022059</td>\n",
       "      <td>0.698088</td>\n",
       "      <td>0.019418</td>\n",
       "    </tr>\n",
       "  </tbody>\n",
       "</table>\n",
       "</div>"
      ],
      "text/plain": [
       "   AUC medio  AUC intervalo de confianza  Accuracy medio  \\\n",
       "0   0.764084                    0.022059        0.698088   \n",
       "\n",
       "   Accuracy intervalo de confianza  \n",
       "0                         0.019418  "
      ]
     },
     "execution_count": 19,
     "metadata": {},
     "output_type": "execute_result"
    },
    {
     "data": {
      "image/png": "[encoded data removed]",
      "text/plain": [
       "<Figure size 432x288 with 2 Axes>"
      ]
     },
     "metadata": {
      "needs_background": "light"
     },
     "output_type": "display_data"
    },
    {
     "data": {
      "image/png": "[encoded data removed]",
      "text/plain": [
       "<Figure size 432x288 with 1 Axes>"
      ]
     },
     "metadata": {
      "needs_background": "light"
     },
     "output_type": "display_data"
    }
   ],
   "source": [
    "experimentar(X,y)"
   ]
  },
  {
   "cell_type": "code",
   "execution_count": null,
   "metadata": {},
   "outputs": [],
   "source": []
  }
 ],
 "metadata": {
  "kernelspec": {
   "display_name": "Python 3",
   "language": "python",
   "name": "python3"
  },
  "language_info": {
   "codemirror_mode": {
    "name": "ipython",
    "version": 3
   },
   "file_extension": ".py",
   "mimetype": "text/x-python",
   "name": "python",
   "nbconvert_exporter": "python",
   "pygments_lexer": "ipython3",
   "version": "3.8.5"
  }
 },
 "nbformat": 4,
 "nbformat_minor": 4
}
