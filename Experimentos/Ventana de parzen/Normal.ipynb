{
 "cells": [
  {
   "cell_type": "code",
   "execution_count": 2,
   "metadata": {
    "id": "8dZz8VkfuXuE"
   },
   "outputs": [],
   "source": [
    "import pandas as pd\n",
    "import numpy as np\n",
    "from sklearn.preprocessing import StandardScaler"
   ]
  },
  {
   "cell_type": "code",
   "execution_count": 3,
   "metadata": {
    "id": "eM5WYXvluiLo"
   },
   "outputs": [],
   "source": [
    "df=pd.read_csv('./DB_v2.csv',index_col=False)\n",
    "df=df.drop(['Unnamed: 0'],axis=1)\n",
    "scaler=StandardScaler()\n"
   ]
  },
  {
   "cell_type": "code",
   "execution_count": 4,
   "metadata": {
    "id": "7FWuJboBul00"
   },
   "outputs": [],
   "source": [
    "y=df['DEF_PAY']\n",
    "X=scaler.fit_transform(df.drop(['DEF_PAY'],axis=1))"
   ]
  },
  {
   "cell_type": "code",
   "execution_count": 5,
   "metadata": {
    "id": "PICr2taAuv0u"
   },
   "outputs": [],
   "source": [
    "from sklearn.model_selection import GridSearchCV\n",
    "from sklearn.model_selection import train_test_split\n",
    "from sklearn.metrics import accuracy_score, make_scorer\n",
    "from sklearn.neighbors import KernelDensity\n",
    "from sklearn.model_selection import StratifiedKFold\n",
    "from sklearn.utils import class_weight\n",
    "import joblib"
   ]
  },
  {
   "cell_type": "code",
   "execution_count": 29,
   "metadata": {
    "id": "WH79mT6xux4H"
   },
   "outputs": [],
   "source": [
    "from sklearn.base import BaseEstimator, ClassifierMixin\n",
    "class KDEClassifier(BaseEstimator, ClassifierMixin):\n",
    "    \"\"\"Bayesian generative classification based on KDE\n",
    "    \n",
    "    Parameters\n",
    "    ----------\n",
    "    bandwidth : float\n",
    "        the kernel bandwidth within each class\n",
    "    kernel : str\n",
    "        the kernel name, passed to KernelDensity\n",
    "    \"\"\"\n",
    "    def __init__(self, bandwidth=1.0, kernel='gaussian'):\n",
    "        self.bandwidth = bandwidth\n",
    "        self.kernel = kernel\n",
    "        \n",
    "    def fit(self, X, y):\n",
    "        self.classes_ = np.sort(np.unique(y))\n",
    "        training_sets = [X[y == yi] for yi in self.classes_]\n",
    "        self.models_ = [KernelDensity(bandwidth=self.bandwidth,\n",
    "                                      kernel=self.kernel).fit(Xi)\n",
    "                        for Xi in training_sets]\n",
    "        self.logpriors_ = [np.log(Xi.shape[0] / X.shape[0])\n",
    "                           for Xi in training_sets]\n",
    "        return self\n",
    "        \n",
    "    def predict_proba(self, X):\n",
    "        logprobs = np.array([model.score_samples(X)\n",
    "                             for model in self.models_]).T\n",
    "        result = np.exp(logprobs + self.logpriors_)\n",
    "        return result / result.sum(1, keepdims=True)\n",
    "        \n",
    "    def predict(self, X):\n",
    "        return self.classes_[np.argmax(self.predict_proba(X), 1)]"
   ]
  },
  {
   "cell_type": "code",
   "execution_count": 30,
   "metadata": {
    "id": "vfB1gfeXwzps"
   },
   "outputs": [],
   "source": [
    "def gridSearch(model,params,X,Y,VALID_SIZE,FOLDS=10):\n",
    "    skf = StratifiedKFold(n_splits=FOLDS)\n",
    "    scoring = {'AUC': 'roc_auc', 'Accuracy':'accuracy'}    \n",
    "    X_train, X_test, Y_train, Y_test = train_test_split(X,Y, test_size=VALID_SIZE, shuffle=True)\n",
    "    class_weightsTrain = class_weight.compute_class_weight('balanced',np.unique(Y_train),Y_train)\n",
    "    gs = GridSearchCV(model, cv=skf, param_grid=params, return_train_score=True, n_jobs=-1,refit='AUC')\n",
    "    gs.fit(X_train, Y_train)\n",
    "    print(gs.best_estimator_)\n",
    "    print(np.abs(gs.best_score_))\n",
    "    return gs,X_test,Y_test"
   ]
  },
  {
   "cell_type": "code",
   "execution_count": 15,
   "metadata": {
    "colab": {
     "base_uri": "https://localhost:8080/"
    },
    "id": "dGCQwniau5Vb",
    "outputId": "4f705a80-f9ae-444b-c047-e1dd06c0fb56"
   },
   "outputs": [
    {
     "name": "stdout",
     "output_type": "stream",
     "text": [
      "KDEClassifier(bandwidth=0.9500000000000002, kernel='gaussian')\n",
      "0.8040833333333334\n"
     ]
    },
    {
     "data": {
      "text/plain": [
       "['gs_object.pkl']"
      ]
     },
     "execution_count": 15,
     "metadata": {
      "tags": []
     },
     "output_type": "execute_result"
    }
   ],
   "source": [
    "kdc=KDEClassifier()\n",
    "param_grid = {'bandwidth':np.arange(0.05,1,.1)}\n",
    "gs,_,_=gridSearch(kdc,param_grid,X,y,0.2)\n",
    "joblib.dump(gs, 'gs_object.pkl')"
   ]
  },
  {
   "cell_type": "code",
   "execution_count": 86,
   "metadata": {
    "id": "1kPB4eaqLJpr"
   },
   "outputs": [],
   "source": [
    "from sklearn.metrics import balanced_accuracy_score\n",
    "from sklearn.metrics import roc_auc_score\n",
    "import scikitplot as skplt#Esta librería toca instalarla \"conda install -c conda-forge scikit-plot\"\n",
    "from sklearn.metrics import classification_report\n",
    "\n",
    "def experimentar(X,Y):\n",
    "    #Validamos el modelo\n",
    "    Folds = 2\n",
    "    skf = StratifiedKFold(n_splits=Folds)\n",
    "    resultados = pd.DataFrame()\n",
    "    idx = 0\n",
    "    Acc = []\n",
    "    Auc= []\n",
    "\n",
    "    for j, (train, test) in enumerate(skf.split(X, Y)):\n",
    "        Xtrain= X[train,:]\n",
    "        Ytrain = Y[train]\n",
    "        Xtest = X[test, :]\n",
    "        Ytest = Y[test]\n",
    "        #Normalizamos los datos\n",
    "        scaler = StandardScaler().fit(X= Xtrain)       \n",
    "        Xtrain = scaler.transform(Xtrain)\n",
    "        Xtest = scaler.transform(Xtest)\n",
    "        model = KDEClassifier(bandwidth=0.9555, kernel='gaussian')\n",
    "\n",
    "        model.fit(X=Xtrain, y=Ytrain)\n",
    "        Yest = model.predict_proba(Xtest)\n",
    "        \n",
    "        Acc.append(balanced_accuracy_score(Ytest,np.argmax(Yest, 1)))\n",
    "#         aux=roc_auc_score(Ytest,Yest[:,1])\n",
    "#         Auc.append(aux)\n",
    "    skplt.metrics.plot_confusion_matrix(Ytest,np.argmax(Yest, 1)) #matriz de confusión\n",
    "#     skplt.metrics.plot_roc(Ytest,Yest)\n",
    "    print(classification_report(Ytest,np.argmax(Yest, 1)))\n",
    "    \n",
    "#     resultados.loc[idx,'AUC medio'] = np.mean(Auc)\n",
    "#     resultados.loc[idx,'AUC intervalo de confianza'] = np.std(Auc)\n",
    "    resultados.loc[idx,'Accuracy medio'] = np.mean(Acc)\n",
    "    resultados.loc[idx,'Accuracy intervalo de confianza'] = np.std(Acc)\n",
    "    return (resultados)"
   ]
  },
  {
   "cell_type": "code",
   "execution_count": 88,
   "metadata": {},
   "outputs": [
    {
     "name": "stderr",
     "output_type": "stream",
     "text": [
      "<ipython-input-29-5b9b2a44f081>:30: RuntimeWarning: invalid value encountered in true_divide\n",
      "  return result / result.sum(1, keepdims=True)\n"
     ]
    },
    {
     "name": "stdout",
     "output_type": "stream",
     "text": [
      "              precision    recall  f1-score   support\n",
      "\n",
      "           0       0.82      0.95      0.88     11682\n",
      "           1       0.63      0.28      0.39      3318\n",
      "\n",
      "    accuracy                           0.80     15000\n",
      "   macro avg       0.72      0.62      0.63     15000\n",
      "weighted avg       0.78      0.80      0.77     15000\n",
      "\n"
     ]
    },
    {
     "name": "stderr",
     "output_type": "stream",
     "text": [
      "<ipython-input-29-5b9b2a44f081>:30: RuntimeWarning: invalid value encountered in true_divide\n",
      "  return result / result.sum(1, keepdims=True)\n"
     ]
    },
    {
     "data": {
      "text/html": [
       "<div>\n",
       "<style scoped>\n",
       "    .dataframe tbody tr th:only-of-type {\n",
       "        vertical-align: middle;\n",
       "    }\n",
       "\n",
       "    .dataframe tbody tr th {\n",
       "        vertical-align: top;\n",
       "    }\n",
       "\n",
       "    .dataframe thead th {\n",
       "        text-align: right;\n",
       "    }\n",
       "</style>\n",
       "<table border=\"1\" class=\"dataframe\">\n",
       "  <thead>\n",
       "    <tr style=\"text-align: right;\">\n",
       "      <th></th>\n",
       "      <th>Accuracy medio</th>\n",
       "      <th>Accuracy intervalo de confianza</th>\n",
       "    </tr>\n",
       "  </thead>\n",
       "  <tbody>\n",
       "    <tr>\n",
       "      <th>0</th>\n",
       "      <td>0.616317</td>\n",
       "      <td>0.000486</td>\n",
       "    </tr>\n",
       "  </tbody>\n",
       "</table>\n",
       "</div>"
      ],
      "text/plain": [
       "   Accuracy medio  Accuracy intervalo de confianza\n",
       "0        0.616317                         0.000486"
      ]
     },
     "execution_count": 88,
     "metadata": {},
     "output_type": "execute_result"
    },
    {
     "data": {
      "image/png": "[encoded data removed]",
      "text/plain": [
       "<Figure size 432x288 with 2 Axes>"
      ]
     },
     "metadata": {
      "needs_background": "light"
     },
     "output_type": "display_data"
    }
   ],
   "source": [
    "experimentar(X,y)"
   ]
  },
  {
   "cell_type": "code",
   "execution_count": null,
   "metadata": {},
   "outputs": [],
   "source": []
  }
 ],
 "metadata": {
  "colab": {
   "name": "Normal.ipynb",
   "provenance": []
  },
  "kernelspec": {
   "display_name": "Python 3",
   "language": "python",
   "name": "python3"
  },
  "language_info": {
   "codemirror_mode": {
    "name": "ipython",
    "version": 3
   },
   "file_extension": ".py",
   "mimetype": "text/x-python",
   "name": "python",
   "nbconvert_exporter": "python",
   "pygments_lexer": "ipython3",
   "version": "3.8.5"
  }
 },
 "nbformat": 4,
 "nbformat_minor": 1
}
