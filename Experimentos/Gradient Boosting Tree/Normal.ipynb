{
 "cells": [
  {
   "cell_type": "code",
   "execution_count": 1,
   "metadata": {},
   "outputs": [],
   "source": [
    "import pandas as pd\n",
    "import numpy as np\n",
    "from sklearn.preprocessing import StandardScaler"
   ]
  },
  {
   "cell_type": "code",
   "execution_count": 2,
   "metadata": {},
   "outputs": [],
   "source": [
    "df=pd.read_csv('../../Database/DB_v2.csv',index_col=False)\n",
    "df=df.drop(['Unnamed: 0'],axis=1)\n",
    "scaler=StandardScaler()\n"
   ]
  },
  {
   "cell_type": "code",
   "execution_count": 3,
   "metadata": {},
   "outputs": [],
   "source": [
    "y=df['DEF_PAY']\n",
    "X=scaler.fit_transform(df.drop(['DEF_PAY'],axis=1))"
   ]
  },
  {
   "cell_type": "code",
   "execution_count": 4,
   "metadata": {},
   "outputs": [],
   "source": [
    "from sklearn.model_selection import GridSearchCV\n",
    "from sklearn.model_selection import train_test_split\n",
    "from sklearn.metrics import accuracy_score, make_scorer\n",
    "from sklearn.model_selection import StratifiedKFold\n",
    "from sklearn.utils import class_weight\n",
    "from sklearn.ensemble import GradientBoostingClassifier\n",
    "import joblib"
   ]
  },
  {
   "cell_type": "code",
   "execution_count": 5,
   "metadata": {},
   "outputs": [],
   "source": [
    "def gridSearch(model,params,X,Y,VALID_SIZE,FOLDS=10):\n",
    "    skf = StratifiedKFold(n_splits=FOLDS)\n",
    "    scoring = {'AUC': 'roc_auc', 'Accuracy':'accuracy'}\n",
    "    \n",
    "    gs = GridSearchCV(model, cv=skf, param_grid=params, return_train_score=True, n_jobs=-1,refit='AUC')\n",
    "    \n",
    "    X_train, X_test, Y_train, Y_test = train_test_split(X,Y, test_size=VALID_SIZE, shuffle=True)\n",
    "    class_weightsTrain = class_weight.compute_class_weight('balanced',np.unique(Y_train),Y_train)\n",
    "    gs.fit(X_train, Y_train)\n",
    "    print(gs.best_estimator_)\n",
    "    print(np.abs(gs.best_score_))\n",
    "    return gs,X_test,Y_test"
   ]
  },
  {
   "cell_type": "raw",
   "metadata": {},
   "source": [
    "Instancia del modelo, diccionario de hiperparámetros y métricas de validación"
   ]
  },
  {
   "cell_type": "code",
   "execution_count": null,
   "metadata": {},
   "outputs": [
    {
     "name": "stderr",
     "output_type": "stream",
     "text": [
      "/home/sht/anaconda3/lib/python3.8/site-packages/sklearn/utils/validation.py:67: FutureWarning: Pass classes=[0 1], y=28896    0\n",
      "15962    0\n",
      "16063    0\n",
      "11779    1\n",
      "3595     0\n",
      "        ..\n",
      "8050     0\n",
      "28618    0\n",
      "24272    0\n",
      "18866    0\n",
      "9893     0\n",
      "Name: DEF_PAY, Length: 24000, dtype: int64 as keyword args. From version 0.25 passing these as positional arguments will result in an error\n",
      "  warnings.warn(\"Pass {} as keyword args. From version 0.25 \"\n"
     ]
    }
   ],
   "source": [
    "param_grid =  {\n",
    "    \"loss\":[\"deviance\"],\n",
    "    \"learning_rate\": [0.01, 0.025, 0.05, 0.075, 0.1, 0.15, 0.2],\n",
    "    \"min_samples_leaf\": np.linspace(0.1, 0.5, 12),\n",
    "    \"max_depth\":[3,5,8],\n",
    "    \"max_features\":[\"log2\",\"sqrt\"],\n",
    "    \"criterion\": [\"friedman_mse\",  \"mae\"],\n",
    "    \"subsample\":[0.5, 0.618, 0.8, 0.85, 0.9, 0.95, 1.0],\n",
    "    \"n_estimators\":[5,10,20,100,200]\n",
    "    }\n",
    "\n",
    "\n",
    "clf=GradientBoostingClassifier()\n",
    "gs,_,_=gridSearch(clf,param_grid,X,y,0.2)\n",
    "joblib.dump(gs, 'gs_object.pkl') #se guarda el gs para su posterior uso"
   ]
  },
  {
   "cell_type": "code",
   "execution_count": null,
   "metadata": {},
   "outputs": [],
   "source": [
    "awa=joblib.load(\"gs_object.pkl\")\n"
   ]
  },
  {
   "cell_type": "code",
   "execution_count": 4,
   "metadata": {},
   "outputs": [],
   "source": [
    "clf=GradientBoostingClassifier()"
   ]
  },
  {
   "cell_type": "code",
   "execution_count": 6,
   "metadata": {},
   "outputs": [],
   "source": [
    "from sklearn.metrics import balanced_accuracy_score\n",
    "from sklearn.metrics import roc_auc_score\n",
    "import scikitplot as skplt#Esta librería toca instalarla \"conda install -c conda-forge scikit-plot\"\n",
    "from sklearn.metrics import classification_report\n",
    "\n",
    "def experimentar(X,Y):\n",
    "    \"\"\" función para realizar experimentos con el MLP\n",
    "    x: matriz de numpy con caracteristicas\n",
    "    y: vector numpy con las variables a predecir\n",
    "    num_hidden_layers: list de enteros con el numero de capdas\n",
    "        ocultas a usar\n",
    "    num_neurons: list de enteros con el numero de neuronas a usar\n",
    "    \n",
    "    Retorna: dataframe con 4 columnas:\n",
    "        - numero de capas, numero de neuronas\n",
    "        - promedio de error prueba (exactitud/eficiencia) de claisficacion y desviación estandar        \n",
    "    \"\"\"\n",
    "    #Validamos el modelo\n",
    "    Folds = 10\n",
    "    skf = StratifiedKFold(n_splits=Folds)\n",
    "    resultados = pd.DataFrame()\n",
    "    idx = 0\n",
    "    Acc = []\n",
    "    Auc= []\n",
    "\n",
    "    for j, (train, test) in enumerate(skf.split(X, Y)):\n",
    "        Xtrain= X[train,:]\n",
    "        Ytrain = Y[train]\n",
    "        Xtest = X[test, :]\n",
    "        Ytest = Y[test]\n",
    "        #Normalizamos los datos\n",
    "        scaler = StandardScaler().fit(X= Xtrain)       \n",
    "        Xtrain = scaler.transform(Xtrain)\n",
    "        Xtest = scaler.transform(Xtest)\n",
    "        model = GradientBoostingClassifier()\n",
    "\n",
    "        model.fit(X=Xtrain, y=Ytrain)\n",
    "        Yest = model.predict_proba(Xtest)\n",
    "        \n",
    "        Acc.append(balanced_accuracy_score(Ytest,np.argmax(Yest, 1)))\n",
    "        aux=roc_auc_score(Ytest,Yest[:,1])\n",
    "        Auc.append(aux)\n",
    "    skplt.metrics.plot_confusion_matrix(Ytest,np.argmax(Yest, 1)) #matriz de confusión\n",
    "    skplt.metrics.plot_roc(Ytest,Yest)\n",
    "    print(classification_report(Ytest,np.argmax(Yest, 1)))\n",
    "    \n",
    "    resultados.loc[idx,'AUC medio'] = np.mean(Auc)\n",
    "    resultados.loc[idx,'AUC intervalo de confianza'] = np.std(Auc)\n",
    "    resultados.loc[idx,'Accuracy medio'] = np.mean(Acc)\n",
    "    resultados.loc[idx,'Accuracy intervalo de confianza'] = np.std(Acc)\n",
    "    return (resultados)"
   ]
  },
  {
   "cell_type": "code",
   "execution_count": 7,
   "metadata": {},
   "outputs": [
    {
     "name": "stdout",
     "output_type": "stream",
     "text": [
      "              precision    recall  f1-score   support\n",
      "\n",
      "           0       0.84      0.96      0.90      2337\n",
      "           1       0.72      0.36      0.48       663\n",
      "\n",
      "    accuracy                           0.83      3000\n",
      "   macro avg       0.78      0.66      0.69      3000\n",
      "weighted avg       0.82      0.83      0.81      3000\n",
      "\n"
     ]
    },
    {
     "data": {
      "text/html": [
       "<div>\n",
       "<style scoped>\n",
       "    .dataframe tbody tr th:only-of-type {\n",
       "        vertical-align: middle;\n",
       "    }\n",
       "\n",
       "    .dataframe tbody tr th {\n",
       "        vertical-align: top;\n",
       "    }\n",
       "\n",
       "    .dataframe thead th {\n",
       "        text-align: right;\n",
       "    }\n",
       "</style>\n",
       "<table border=\"1\" class=\"dataframe\">\n",
       "  <thead>\n",
       "    <tr style=\"text-align: right;\">\n",
       "      <th></th>\n",
       "      <th>AUC medio</th>\n",
       "      <th>AUC intervalo de confianza</th>\n",
       "      <th>Accuracy medio</th>\n",
       "      <th>Accuracy intervalo de confianza</th>\n",
       "    </tr>\n",
       "  </thead>\n",
       "  <tbody>\n",
       "    <tr>\n",
       "      <th>0</th>\n",
       "      <td>0.781604</td>\n",
       "      <td>0.022999</td>\n",
       "      <td>0.659463</td>\n",
       "      <td>0.018582</td>\n",
       "    </tr>\n",
       "  </tbody>\n",
       "</table>\n",
       "</div>"
      ],
      "text/plain": [
       "   AUC medio  AUC intervalo de confianza  Accuracy medio  \\\n",
       "0   0.781604                    0.022999        0.659463   \n",
       "\n",
       "   Accuracy intervalo de confianza  \n",
       "0                         0.018582  "
      ]
     },
     "execution_count": 7,
     "metadata": {},
     "output_type": "execute_result"
    },
    {
     "data": {
      "image/png": "[encoded data removed]",
      "text/plain": [
       "<Figure size 432x288 with 2 Axes>"
      ]
     },
     "metadata": {
      "needs_background": "light"
     },
     "output_type": "display_data"
    },
    {
     "data": {
      "image/png": "[encoded data removed]",
      "text/plain": [
       "<Figure size 432x288 with 1 Axes>"
      ]
     },
     "metadata": {
      "needs_background": "light"
     },
     "output_type": "display_data"
    }
   ],
   "source": [
    "experimentar(X,y)"
   ]
  },
  {
   "cell_type": "code",
   "execution_count": null,
   "metadata": {},
   "outputs": [],
   "source": []
  }
 ],
 "metadata": {
  "kernelspec": {
   "display_name": "Python 3",
   "language": "python",
   "name": "python3"
  },
  "language_info": {
   "codemirror_mode": {
    "name": "ipython",
    "version": 3
   },
   "file_extension": ".py",
   "mimetype": "text/x-python",
   "name": "python",
   "nbconvert_exporter": "python",
   "pygments_lexer": "ipython3",
   "version": "3.8.5"
  }
 },
 "nbformat": 4,
 "nbformat_minor": 4
}
