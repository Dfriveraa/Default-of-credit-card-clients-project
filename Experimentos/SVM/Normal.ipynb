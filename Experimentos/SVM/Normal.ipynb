{
 "cells": [
  {
   "cell_type": "code",
   "execution_count": 1,
   "metadata": {},
   "outputs": [],
   "source": [
    "import pandas as pd\n",
    "import numpy as np\n",
    "from sklearn.preprocessing import StandardScaler"
   ]
  },
  {
   "cell_type": "code",
   "execution_count": 2,
   "metadata": {},
   "outputs": [],
   "source": [
    "df=pd.read_csv('../../Database/DB_v2.csv',index_col=False)\n",
    "df=df.drop(['Unnamed: 0'],axis=1)\n",
    "scaler=StandardScaler()\n"
   ]
  },
  {
   "cell_type": "code",
   "execution_count": 3,
   "metadata": {},
   "outputs": [],
   "source": [
    "y=df['DEF_PAY']\n",
    "X=scaler.fit_transform(df.drop(['DEF_PAY'],axis=1))"
   ]
  },
  {
   "cell_type": "code",
   "execution_count": 4,
   "metadata": {},
   "outputs": [],
   "source": [
    "from sklearn.model_selection import GridSearchCV\n",
    "from sklearn.model_selection import train_test_split\n",
    "from sklearn.metrics import accuracy_score, make_scorer\n",
    "from sklearn.svm import SVC\n",
    "from sklearn.model_selection import StratifiedKFold\n",
    "from sklearn.utils import class_weight\n",
    "import joblib"
   ]
  },
  {
   "cell_type": "code",
   "execution_count": 10,
   "metadata": {},
   "outputs": [],
   "source": [
    "def gridSearch(model,params,X,Y,VALID_SIZE,FOLDS=10):\n",
    "    skf = StratifiedKFold(n_splits=FOLDS)\n",
    "    scoring = {'AUC': 'roc_auc', 'Accuracy':'accuracy'}    \n",
    "    X_train, X_test, Y_train, Y_test = train_test_split(X,Y, test_size=VALID_SIZE, shuffle=True)\n",
    "    class_weightsTrain = class_weight.compute_class_weight('balanced',np.unique(Y_train),Y_train)\n",
    "    gs = GridSearchCV(model, cv=skf, param_grid=params, return_train_score=True, n_jobs=-1,refit='AUC')\n",
    "    gs.fit(X_train, Y_train)\n",
    "    print(gs.best_estimator_)\n",
    "    print(np.abs(gs.best_score_))\n",
    "    return gs,X_test,Y_test"
   ]
  },
  {
   "cell_type": "raw",
   "metadata": {},
   "source": [
    "Instancia del modelo, diccionario de hiperparámetros y métricas de validación"
   ]
  },
  {
   "cell_type": "code",
   "execution_count": null,
   "metadata": {},
   "outputs": [
    {
     "name": "stderr",
     "output_type": "stream",
     "text": [
      "/home/sht/anaconda3/lib/python3.8/site-packages/sklearn/utils/validation.py:67: FutureWarning: Pass classes=[0 1], y=87       0\n",
      "11152    0\n",
      "24940    0\n",
      "19997    0\n",
      "8164     0\n",
      "        ..\n",
      "17643    0\n",
      "21395    0\n",
      "10918    0\n",
      "11862    1\n",
      "428      0\n",
      "Name: DEF_PAY, Length: 24000, dtype: int64 as keyword args. From version 0.25 passing these as positional arguments will result in an error\n",
      "  warnings.warn(\"Pass {} as keyword args. From version 0.25 \"\n"
     ]
    }
   ],
   "source": [
    "Cs = [0.001, 0.01, 0.1, 1, 10]\n",
    "gammas = [0.001, 0.01, 0.1, 1]\n",
    "kernels = ['rbf','linear']\n",
    "\n",
    "param_grid = {'C': Cs, 'gamma' : gammas,'kernel':kernels}\n",
    "svm = SVC(class_weight='balanced')\n",
    "gs,_,_=gridSearch(svm,param_grid,X,y,0.2)\n",
    "joblib.dump(gs, 'gs_object.pkl') #se guarda el gs para su posterior uso"
   ]
  },
  {
   "cell_type": "code",
   "execution_count": null,
   "metadata": {},
   "outputs": [],
   "source": []
  }
 ],
 "metadata": {
  "kernelspec": {
   "display_name": "Python 3",
   "language": "python",
   "name": "python3"
  },
  "language_info": {
   "codemirror_mode": {
    "name": "ipython",
    "version": 3
   },
   "file_extension": ".py",
   "mimetype": "text/x-python",
   "name": "python",
   "nbconvert_exporter": "python",
   "pygments_lexer": "ipython3",
   "version": "3.8.5"
  }
 },
 "nbformat": 4,
 "nbformat_minor": 4
}
