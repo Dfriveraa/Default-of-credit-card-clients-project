{
 "cells": [
  {
   "cell_type": "code",
   "execution_count": 37,
   "metadata": {},
   "outputs": [],
   "source": [
    "import pandas as pd\n",
    "import numpy as np\n",
    "from sklearn.preprocessing import StandardScaler"
   ]
  },
  {
   "cell_type": "code",
   "execution_count": 38,
   "metadata": {},
   "outputs": [
    {
     "data": {
      "text/plain": [
       "array([[-1.13672015, -1.24601985,  2.16049607, ...,  1.09377971,\n",
       "        -1.06647132, -0.10432569],\n",
       "       [-0.3659805 , -1.02904717, -0.46907093, ..., -0.91426088,\n",
       "         0.93767172, -0.10432569],\n",
       "       [-0.59720239, -0.16115646, -0.46907093, ..., -0.91426088,\n",
       "         0.93767172, -0.10432569],\n",
       "       ...,\n",
       "       [-1.05964618,  0.16430256,  4.79006307, ..., -0.91426088,\n",
       "         0.93767172, -0.10432569],\n",
       "       [-0.67427636,  0.59824792,  0.84571257, ...,  1.09377971,\n",
       "        -1.06647132, -0.10432569],\n",
       "       [-0.90549825,  1.14067961, -0.46907093, ...,  1.09377971,\n",
       "        -1.06647132, -0.10432569]])"
      ]
     },
     "execution_count": 38,
     "metadata": {},
     "output_type": "execute_result"
    }
   ],
   "source": [
    "df=pd.read_csv('../../Database/DB_v2.csv',index_col=False)\n",
    "df=df.drop(['Unnamed: 0'],axis=1)\n",
    "scaler=StandardScaler()\n"
   ]
  },
  {
   "cell_type": "code",
   "execution_count": 39,
   "metadata": {},
   "outputs": [],
   "source": [
    "y=df['DEF_PAY']\n",
    "X=scaler.fit_transform(df.drop(['DEF_PAY'],axis=1))"
   ]
  },
  {
   "cell_type": "code",
   "execution_count": 41,
   "metadata": {},
   "outputs": [],
   "source": [
    "from sklearn.model_selection import GridSearchCV\n",
    "from sklearn.model_selection import train_test_split\n",
    "from sklearn.metrics import accuracy_score, make_scorer\n",
    "from sklearn.tree import DecisionTreeClassifier\n",
    "from sklearn.model_selection import StratifiedKFold\n",
    "from sklearn.utils import class_weight\n",
    "import joblib"
   ]
  },
  {
   "cell_type": "code",
   "execution_count": 42,
   "metadata": {},
   "outputs": [],
   "source": [
    "def gridSearch(model,params,X,Y,VALID_SIZE,FOLDS=10):\n",
    "    skf = StratifiedKFold(n_splits=FOLDS)\n",
    "    scoring = {'AUC': 'roc_auc', 'Accuracy':'accuracy'}\n",
    "    \n",
    "    gs = GridSearchCV(model, cv=skf, param_grid=params, return_train_score=True, n_jobs=-1,refit='AUC')\n",
    "    \n",
    "    X_train, X_test, Y_train, Y_test = train_test_split(X,Y, test_size=VALID_SIZE, shuffle=True)\n",
    "    class_weightsTrain = class_weight.compute_class_weight('balanced',np.unique(Y_train),Y_train)\n",
    "    gs.fit(X_train, Y_train)\n",
    "    print(gs.best_estimator_)\n",
    "    print(np.abs(gs.best_score_))\n",
    "    return gs,X_test,Y_test"
   ]
  },
  {
   "cell_type": "raw",
   "metadata": {},
   "source": [
    "Instancia del modelo, diccionario de hiperparámetros y métricas de validación"
   ]
  },
  {
   "cell_type": "code",
   "execution_count": 44,
   "metadata": {},
   "outputs": [
    {
     "name": "stdout",
     "output_type": "stream",
     "text": [
      "DecisionTreeClassifier(criterion='entropy', max_depth=3, max_leaf_nodes=10)\n",
      "0.8216666666666667\n"
     ]
    }
   ],
   "source": [
    "param_grid = {'max_depth': np.arange(3, 10),\n",
    "             'criterion' : ['gini','entropy'],\n",
    "             'max_leaf_nodes': [5,10,20,100],\n",
    "             'min_samples_split': [2, 5, 10, 20]}\n",
    "clf=DecisionTreeClassifier()\n",
    "gs,_,_=gridSearch(clf,param_grid,X,y,0.2)\n",
    "joblib.dump(gs, 'gs_object.pkl') #se guarda el gs para su posterior uso"
   ]
  },
  {
   "cell_type": "code",
   "execution_count": 53,
   "metadata": {},
   "outputs": [
    {
     "data": {
      "text/plain": [
       "['gs_object.pkl']"
      ]
     },
     "execution_count": 53,
     "metadata": {},
     "output_type": "execute_result"
    }
   ],
   "source": []
  },
  {
   "cell_type": "code",
   "execution_count": 54,
   "metadata": {},
   "outputs": [],
   "source": [
    "awa=joblib.load(\"gs_object.pkl\")\n"
   ]
  },
  {
   "cell_type": "code",
   "execution_count": 1,
   "metadata": {},
   "outputs": [
    {
     "ename": "NameError",
     "evalue": "name 'awa' is not defined",
     "output_type": "error",
     "traceback": [
      "\u001b[0;31m---------------------------------------------------------------------------\u001b[0m",
      "\u001b[0;31mNameError\u001b[0m                                 Traceback (most recent call last)",
      "\u001b[0;32m<ipython-input-1-4fc6c50158a8>\u001b[0m in \u001b[0;36m<module>\u001b[0;34m\u001b[0m\n\u001b[0;32m----> 1\u001b[0;31m \u001b[0mawa\u001b[0m\u001b[0;34m.\u001b[0m\u001b[0mcv_results_\u001b[0m\u001b[0;34m\u001b[0m\u001b[0;34m\u001b[0m\u001b[0m\n\u001b[0m",
      "\u001b[0;31mNameError\u001b[0m: name 'awa' is not defined"
     ]
    }
   ],
   "source": [
    "awa.cv_results_\n"
   ]
  },
  {
   "cell_type": "code",
   "execution_count": null,
   "metadata": {},
   "outputs": [],
   "source": []
  }
 ],
 "metadata": {
  "kernelspec": {
   "display_name": "Python 3",
   "language": "python",
   "name": "python3"
  },
  "language_info": {
   "codemirror_mode": {
    "name": "ipython",
    "version": 3
   },
   "file_extension": ".py",
   "mimetype": "text/x-python",
   "name": "python",
   "nbconvert_exporter": "python",
   "pygments_lexer": "ipython3",
   "version": "3.8.5"
  }
 },
 "nbformat": 4,
 "nbformat_minor": 4
}
